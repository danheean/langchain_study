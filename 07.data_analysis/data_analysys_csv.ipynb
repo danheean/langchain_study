{
 "cells": [
  {
   "cell_type": "code",
   "execution_count": 12,
   "metadata": {},
   "outputs": [
    {
     "name": "stdout",
     "output_type": "stream",
     "text": [
      "8\n"
     ]
    },
    {
     "data": {
      "text/html": [
       "<div>\n",
       "<style scoped>\n",
       "    .dataframe tbody tr th:only-of-type {\n",
       "        vertical-align: middle;\n",
       "    }\n",
       "\n",
       "    .dataframe tbody tr th {\n",
       "        vertical-align: top;\n",
       "    }\n",
       "\n",
       "    .dataframe thead th {\n",
       "        text-align: right;\n",
       "    }\n",
       "</style>\n",
       "<table border=\"1\" class=\"dataframe\">\n",
       "  <thead>\n",
       "    <tr style=\"text-align: right;\">\n",
       "      <th></th>\n",
       "      <th>title</th>\n",
       "      <th>subtitle</th>\n",
       "      <th>authors</th>\n",
       "      <th>categories</th>\n",
       "      <th>thumbnail</th>\n",
       "      <th>description</th>\n",
       "      <th>published_year</th>\n",
       "      <th>average_rating</th>\n",
       "      <th>num_pages</th>\n",
       "      <th>ratings_count</th>\n",
       "    </tr>\n",
       "  </thead>\n",
       "  <tbody>\n",
       "    <tr>\n",
       "      <th>0</th>\n",
       "      <td>Gilead</td>\n",
       "      <td>NaN</td>\n",
       "      <td>Marilynne Robinson</td>\n",
       "      <td>Fiction</td>\n",
       "      <td>http://books.google.com/books/content?id=KQZCP...</td>\n",
       "      <td>A NOVEL THAT READERS and critics have been eag...</td>\n",
       "      <td>2004</td>\n",
       "      <td>3.85</td>\n",
       "      <td>247</td>\n",
       "      <td>361</td>\n",
       "    </tr>\n",
       "    <tr>\n",
       "      <th>1</th>\n",
       "      <td>Spider's Web</td>\n",
       "      <td>A Novel</td>\n",
       "      <td>Charles Osborne;Agatha Christie</td>\n",
       "      <td>Detective and mystery stories</td>\n",
       "      <td>http://books.google.com/books/content?id=gA5GP...</td>\n",
       "      <td>A new 'Christie for Christmas' -- a full-lengt...</td>\n",
       "      <td>2000</td>\n",
       "      <td>3.83</td>\n",
       "      <td>241</td>\n",
       "      <td>5164</td>\n",
       "    </tr>\n",
       "    <tr>\n",
       "      <th>2</th>\n",
       "      <td>The One Tree</td>\n",
       "      <td>NaN</td>\n",
       "      <td>Stephen R. Donaldson</td>\n",
       "      <td>American fiction</td>\n",
       "      <td>http://books.google.com/books/content?id=OmQaw...</td>\n",
       "      <td>Volume Two of Stephen Donaldson's acclaimed se...</td>\n",
       "      <td>1982</td>\n",
       "      <td>3.97</td>\n",
       "      <td>479</td>\n",
       "      <td>172</td>\n",
       "    </tr>\n",
       "    <tr>\n",
       "      <th>3</th>\n",
       "      <td>Rage of angels</td>\n",
       "      <td>NaN</td>\n",
       "      <td>Sidney Sheldon</td>\n",
       "      <td>Fiction</td>\n",
       "      <td>http://books.google.com/books/content?id=FKo2T...</td>\n",
       "      <td>A memorable, mesmerizing heroine Jennifer -- b...</td>\n",
       "      <td>1993</td>\n",
       "      <td>3.93</td>\n",
       "      <td>512</td>\n",
       "      <td>29532</td>\n",
       "    </tr>\n",
       "    <tr>\n",
       "      <th>4</th>\n",
       "      <td>The Four Loves</td>\n",
       "      <td>NaN</td>\n",
       "      <td>Clive Staples Lewis</td>\n",
       "      <td>Christian life</td>\n",
       "      <td>http://books.google.com/books/content?id=XhQ5X...</td>\n",
       "      <td>Lewis' work on the nature of love divides love...</td>\n",
       "      <td>2002</td>\n",
       "      <td>4.15</td>\n",
       "      <td>170</td>\n",
       "      <td>33684</td>\n",
       "    </tr>\n",
       "    <tr>\n",
       "      <th>5</th>\n",
       "      <td>The Problem of Pain</td>\n",
       "      <td>NaN</td>\n",
       "      <td>Clive Staples Lewis</td>\n",
       "      <td>Christian life</td>\n",
       "      <td>http://books.google.com/books/content?id=Kk-uV...</td>\n",
       "      <td>\"In The Problem of Pain, C.S. Lewis, one of th...</td>\n",
       "      <td>2002</td>\n",
       "      <td>4.09</td>\n",
       "      <td>176</td>\n",
       "      <td>37569</td>\n",
       "    </tr>\n",
       "    <tr>\n",
       "      <th>6</th>\n",
       "      <td>An Autobiography</td>\n",
       "      <td>NaN</td>\n",
       "      <td>Agatha Christie</td>\n",
       "      <td>Authors, English</td>\n",
       "      <td>http://books.google.com/books/content?id=c49GQ...</td>\n",
       "      <td>Donation.</td>\n",
       "      <td>1977</td>\n",
       "      <td>4.27</td>\n",
       "      <td>560</td>\n",
       "      <td>3975</td>\n",
       "    </tr>\n",
       "    <tr>\n",
       "      <th>7</th>\n",
       "      <td>Empires of the Monsoon</td>\n",
       "      <td>A History of the Indian Ocean and Its Invaders</td>\n",
       "      <td>Richard Hall</td>\n",
       "      <td>Africa, East</td>\n",
       "      <td>http://books.google.com/books/content?id=MuPEQ...</td>\n",
       "      <td>Until Vasco da Gama discovered the sea-route t...</td>\n",
       "      <td>1998</td>\n",
       "      <td>4.41</td>\n",
       "      <td>608</td>\n",
       "      <td>65</td>\n",
       "    </tr>\n",
       "  </tbody>\n",
       "</table>\n",
       "</div>"
      ],
      "text/plain": [
       "                    title                                        subtitle  \\\n",
       "0                  Gilead                                             NaN   \n",
       "1            Spider's Web                                         A Novel   \n",
       "2            The One Tree                                             NaN   \n",
       "3          Rage of angels                                             NaN   \n",
       "4          The Four Loves                                             NaN   \n",
       "5     The Problem of Pain                                             NaN   \n",
       "6        An Autobiography                                             NaN   \n",
       "7  Empires of the Monsoon  A History of the Indian Ocean and Its Invaders   \n",
       "\n",
       "                           authors                     categories  \\\n",
       "0               Marilynne Robinson                        Fiction   \n",
       "1  Charles Osborne;Agatha Christie  Detective and mystery stories   \n",
       "2             Stephen R. Donaldson               American fiction   \n",
       "3                   Sidney Sheldon                        Fiction   \n",
       "4              Clive Staples Lewis                 Christian life   \n",
       "5              Clive Staples Lewis                 Christian life   \n",
       "6                  Agatha Christie               Authors, English   \n",
       "7                     Richard Hall                   Africa, East   \n",
       "\n",
       "                                           thumbnail  \\\n",
       "0  http://books.google.com/books/content?id=KQZCP...   \n",
       "1  http://books.google.com/books/content?id=gA5GP...   \n",
       "2  http://books.google.com/books/content?id=OmQaw...   \n",
       "3  http://books.google.com/books/content?id=FKo2T...   \n",
       "4  http://books.google.com/books/content?id=XhQ5X...   \n",
       "5  http://books.google.com/books/content?id=Kk-uV...   \n",
       "6  http://books.google.com/books/content?id=c49GQ...   \n",
       "7  http://books.google.com/books/content?id=MuPEQ...   \n",
       "\n",
       "                                         description  published_year  \\\n",
       "0  A NOVEL THAT READERS and critics have been eag...            2004   \n",
       "1  A new 'Christie for Christmas' -- a full-lengt...            2000   \n",
       "2  Volume Two of Stephen Donaldson's acclaimed se...            1982   \n",
       "3  A memorable, mesmerizing heroine Jennifer -- b...            1993   \n",
       "4  Lewis' work on the nature of love divides love...            2002   \n",
       "5  \"In The Problem of Pain, C.S. Lewis, one of th...            2002   \n",
       "6                                          Donation.            1977   \n",
       "7  Until Vasco da Gama discovered the sea-route t...            1998   \n",
       "\n",
       "   average_rating  num_pages  ratings_count  \n",
       "0            3.85        247            361  \n",
       "1            3.83        241           5164  \n",
       "2            3.97        479            172  \n",
       "3            3.93        512          29532  \n",
       "4            4.15        170          33684  \n",
       "5            4.09        176          37569  \n",
       "6            4.27        560           3975  \n",
       "7            4.41        608             65  "
      ]
     },
     "execution_count": 12,
     "metadata": {},
     "output_type": "execute_result"
    }
   ],
   "source": [
    "import pandas as pd\n",
    "\n",
    "df = pd.read_csv('./data/booksv_02.csv')\n",
    "print(len(df))\n",
    "df.head(10)"
   ]
  },
  {
   "cell_type": "code",
   "execution_count": 9,
   "metadata": {},
   "outputs": [],
   "source": [
    "import os\n",
    "from dotenv import load_dotenv\n",
    "load_dotenv('../envls')\n",
    "from langchain_experimental.agents.agent_toolkits import create_pandas_dataframe_agent\n",
    "from langchain_openai import ChatOpenAI\n",
    "from langchain.agents.agent_types import AgentType\n",
    "\n",
    "#import os\n",
    "#os.environ[\"OPENAI_API_KEY\"] = \"sk-\" #openai 키 입력\n",
    "\n",
    "# 에이전트 생성\n",
    "agent = create_pandas_dataframe_agent(\n",
    "    ChatOpenAI(temperature=0, \n",
    "               model='gpt-3.5-turbo'),        #gpt-3.5-turbo 사용\n",
    "    df,                                       #데이터가 담긴 곳\n",
    "    verbose=False,                            #추론 과정을 출력하지 않음\n",
    "    agent_type=AgentType.OPENAI_FUNCTIONS, \n",
    "    allow_dangerous_code=True\n",
    ")\n",
    "\n"
   ]
  },
  {
   "cell_type": "code",
   "execution_count": 10,
   "metadata": {},
   "outputs": [
    {
     "data": {
      "text/plain": [
       "'가장 높은 ratings_count를 가진 제품은 \"The Problem of Pain\"이며 해당 제품의 ratings_count는 37569입니다.'"
      ]
     },
     "execution_count": 10,
     "metadata": {},
     "output_type": "execute_result"
    }
   ],
   "source": [
    "agent.run('어떤 제품의 ratings_count가 제일 높아?')"
   ]
  },
  {
   "cell_type": "code",
   "execution_count": 13,
   "metadata": {},
   "outputs": [
    {
     "data": {
      "text/plain": [
       "'가장 최근에 출간된 책은 \"Gilead\"입니다.'"
      ]
     },
     "execution_count": 13,
     "metadata": {},
     "output_type": "execute_result"
    }
   ],
   "source": [
    "agent.run('가장 최근에 출간된 책은?')"
   ]
  }
 ],
 "metadata": {
  "kernelspec": {
   "display_name": "Python 3.11.9 64-bit ('langchain')",
   "language": "python",
   "name": "python3"
  },
  "language_info": {
   "codemirror_mode": {
    "name": "ipython",
    "version": 3
   },
   "file_extension": ".py",
   "mimetype": "text/x-python",
   "name": "python",
   "nbconvert_exporter": "python",
   "pygments_lexer": "ipython3",
   "version": "3.11.9"
  },
  "orig_nbformat": 4,
  "vscode": {
   "interpreter": {
    "hash": "e1e6c2cf2a7c8a2839d7967c94a9ff9baecb1c3cf818a13ce36537b4beac65ca"
   }
  }
 },
 "nbformat": 4,
 "nbformat_minor": 2
}
