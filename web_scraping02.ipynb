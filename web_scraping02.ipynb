{
 "cells": [
  {
   "cell_type": "markdown",
   "id": "25f2ab50-0a19-47eb-8d7e-64b8abe9d719",
   "metadata": {},
   "source": [
    "## Web scraping(웹 스크래핑, 문서 수집하기)\n",
    "[Open In Colab](https://colab.research.google.com/github/langchain-ai/langchain/blob/v0.1/docs/docs/use_cases/web_scraping.ipynb)\n",
    "\n",
    "### 4. Research automation\n",
    "* 구글 검색을 활용한 리서치 자동화\n",
    "  * [Programmable Search Engine](https://cse.google.com/cse?cx=a61c425e10bee4b8d)\n",
    "* APIFY를 활용한 리서치 자동화\n",
    "  * [Integration Tutorial: How to use LangChain with Apify scrapers](https://www.youtube.com/watch?v=zcfeiVdiGJg)\n",
    "\n",
    "#### 구성도\n",
    "<img src=\"./images/web_research.png\" width=\"800\">\n",
    "\n",
    "- [langchain-ai/web-explorer](https://github.com/langchain-ai/web-explorer) 예시 화면\n",
    "\n",
    "<img src=\"./images/research_automation01.png\" width=\"600\"> <img src=\"./images/research_automation02.png\" width=\"522\">\n",
    "\n",
    "\n",
    "#### Resources\n",
    " - [Custom Search JSON API: 소개](https://developers.google.com/custom-search/v1/introduction?hl=k\")\n",
    "\n"
   ]
  },
  {
   "cell_type": "code",
   "execution_count": 8,
   "id": "4ea33bd0-2bb5-4730-86a7-aac76191639f",
   "metadata": {},
   "outputs": [
    {
     "name": "stdout",
     "output_type": "stream",
     "text": [
      "[OK] Your Python version is 3.8.19 (default, Mar 20 2024, 19:55:45) [MSC v.1916 64 bit (AMD64)]\n"
     ]
    }
   ],
   "source": [
    "from python_environment_check import check_packages\n",
    "\n",
    "lib = {\n",
    "    'streamlit': '1.29.0', \n",
    "    'langchain': '0.0.354',\n",
    "    'chromadb': '0.4.3', \n",
    "    'openap': '1.30.1',\n",
    "    'langchain-openai': '0.1.7',\n",
    "    'langchain-core': '0.2.0',\n",
    "    'langchain-chroma': '0.1.1',\n",
    "    'openai': '1.30.1',\n",
    "    'google-api-core': '2.11.1',\n",
    "    'google-api-python-client': '2.95.0',\n",
    "    'google-auth': '2.22.0',\n",
    "    'google-auth-httplib2': '0.1.0',\n",
    "    'googleapis-common-protos': '1.59.1',\n",
    "    'tiktoken==0.7.0',\n",
    "    'faiss-cpu==1.8.0',\n",
    "    'apify-client': '1.7.0', \n",
    "#    'beautifulsoup4': '4.12.2',\n",
    "    'html2text': '2024.2.26',\n",
    "    'dotenv': '0.0.5',\n",
    "    'nest_asyncio': '1.6.0',\n",
    "}\n",
    "\n",
    "#check_packages(lib)"
   ]
  },
  {
   "cell_type": "code",
   "execution_count": 1,
   "id": "a3ef7a38-d028-4685-9a53-bdfe4d962901",
   "metadata": {},
   "outputs": [],
   "source": [
    "import dotenv\n",
    "dotenv.load_dotenv('envls')\n",
    "\n",
    "# 미리 실행해야 함\n",
    "import nest_asyncio\n",
    "nest_asyncio.apply()\n",
    "\n",
    "# 미리 설치해야 함\n",
    "#!playwright install\n"
   ]
  },
  {
   "cell_type": "code",
   "execution_count": 26,
   "id": "b05dc7ac-6863-48da-ad4d-bbb9d5cb4588",
   "metadata": {},
   "outputs": [],
   "source": [
    "import os\n",
    "#print(os.environ['GOOGLE_CSE_ID'])\n",
    "#print(os.environ['GOOGLE_API_KEY'])"
   ]
  },
  {
   "cell_type": "markdown",
   "id": "d066e9e2-5274-4e5f-a662-c42b06345dde",
   "metadata": {},
   "source": [
    "### 구글 검색을 활용한 리서치 자동화\n",
    "#### 구글 Custom Search Engine 생성 및 키 필요\n",
    "<img src=\"./images/googlecse01.png\" width=\"800\">\n",
    "<img src=\"./images/googlecse02.png\" width=\"800\">\n",
    "<img src=\"./images/googlecse03.png\" width=\"800\">\n",
    "<img src=\"./images/googlecse04.png\" width=\"800\">\n",
    "<img src=\"./images/googlecse05.png\" width=\"800\">\n",
    "<img src=\"./images/googlecse06.png\" width=\"800\">\n",
    "<img src=\"./images/googlecse07.png\" width=\"800\"> "
   ]
  },
  {
   "cell_type": "code",
   "execution_count": 27,
   "id": "32279b81-7c4e-4ab7-9c2d-3d839abe7032",
   "metadata": {},
   "outputs": [],
   "source": [
    "from langchain.retrievers.web_research import WebResearchRetriever\n",
    "from langchain_chroma import Chroma\n",
    "from langchain_community.utilities import GoogleSearchAPIWrapper\n",
    "from langchain_openai import ChatOpenAI, OpenAIEmbeddings"
   ]
  },
  {
   "cell_type": "code",
   "execution_count": 28,
   "id": "d96f3a56-9d07-496d-b14d-18bfe4dcd4dc",
   "metadata": {},
   "outputs": [],
   "source": [
    "# Vectorstore\n",
    "vectorstore = Chroma(\n",
    "    embedding_function=OpenAIEmbeddings(), persist_directory=\"./db/chroma_db_oai\"\n",
    ")\n",
    "\n",
    "# LLM\n",
    "llm = ChatOpenAI(temperature=0)\n",
    "\n",
    "# Search\n",
    "search = GoogleSearchAPIWrapper()"
   ]
  },
  {
   "cell_type": "code",
   "execution_count": 29,
   "id": "1e30f677-bfe2-4aea-95c6-4c8d7229c8d6",
   "metadata": {},
   "outputs": [],
   "source": [
    "# Initialize\n",
    "web_research_retriever = WebResearchRetriever.from_llm(\n",
    "    vectorstore=vectorstore, llm=llm, search=search\n",
    ")"
   ]
  },
  {
   "cell_type": "code",
   "execution_count": 31,
   "id": "ea875dca-fa2d-4115-8ccf-ded859370cf7",
   "metadata": {},
   "outputs": [
    {
     "name": "stderr",
     "output_type": "stream",
     "text": [
      "INFO:langchain.retrievers.web_research:Generating questions for Google Search ...\n",
      "INFO:langchain.retrievers.web_research:Questions for Google Search (raw): {'question': '고래대학교의 학생수는?', 'text': LineList(lines=['1. 고래대학교의 총 학생수는?\\n', '2. 고래대학교에는 몇 명의 학생이 재학 중인가요?\\n', '3. 고래대학교의 학생 인원은 얼마나 되나요?'])}\n",
      "INFO:langchain.retrievers.web_research:Questions for Google Search: ['1. 고래대학교의 총 학생수는?\\n', '2. 고래대학교에는 몇 명의 학생이 재학 중인가요?\\n', '3. 고래대학교의 학생 인원은 얼마나 되나요?']\n",
      "INFO:langchain.retrievers.web_research:Searching for relevant urls...\n",
      "INFO:langchain.retrievers.web_research:Searching for relevant urls...\n",
      "INFO:langchain.retrievers.web_research:Search results: [{'title': '아이비리그 대학들 중 규모가 가장 작은 대학, 다트머스대학교 ...', 'link': 'https://blog.naver.com/princetonreview_?Redirect=Log&logNo=221587859092', 'snippet': 'Jul 17, 2019 ... Dartmouth College의 시작은 미국 인디언 교육이었으나 현재 다트머스대학교 본 캠퍼스의 총 인디언 학생 수는 전체 학생 수의 1% 정도이며, 부유층\\xa0...'}]\n",
      "INFO:langchain.retrievers.web_research:Searching for relevant urls...\n",
      "INFO:langchain.retrievers.web_research:Search results: [{'title': 'Seoul National University U.S. Alumni News', 'link': 'https://snuaa.org/main/wp-content/uploads/2015/03/SNUAA-News.3.2015-PDF-FileGen.pdf', 'snippet': 'Mar 3, 2015 ... 업생명과학대학에서 창업에 뜻. 을 둔 학생들이 복수전공으로. 참여하고 있다. 그런데 41명의 학생 중 32명이. 유병준 교수 인솔하에 지난 2. 월 9일부터\\xa0...'}]\n",
      "INFO:langchain.retrievers.web_research:Searching for relevant urls...\n",
      "INFO:langchain.retrievers.web_research:Search results: [{'title': '고려대학교 - 나무위키', 'link': 'https://namu.wiki/w/%EA%B3%A0%EB%A0%A4%EB%8C%80%ED%95%99%EA%B5%90', 'snippet': '고려 등 세 대의 명칭을 가지고 논하되 보성은 전문학교 때의 이름이니 대학이 되면 갈아야 하고, 조선은 개국 당초부터 끝까지 국토 내에서만 우물쭈물 하였고 세력이\\xa0...'}]\n",
      "INFO:langchain.retrievers.web_research:New URLs to load: ['https://blog.naver.com/princetonreview_?Redirect=Log&logNo=221587859092', 'https://snuaa.org/main/wp-content/uploads/2015/03/SNUAA-News.3.2015-PDF-FileGen.pdf', 'https://namu.wiki/w/%EA%B3%A0%EB%A0%A4%EB%8C%80%ED%95%99%EA%B5%90']\n",
      "INFO:langchain.retrievers.web_research:Indexing new urls...\n",
      "Fetching pages:  67%|######6   | 2/3 [00:01<00:00,  1.89it/s]ERROR:langchain_community.document_loaders.async_html:Failed to decode content from https://snuaa.org/main/wp-content/uploads/2015/03/SNUAA-News.3.2015-PDF-FileGen.pdf\n",
      "Fetching pages: 100%|##########| 3/3 [00:05<00:00,  1.83s/it]\n",
      "Exception ignored in: <function _ProactorBasePipeTransport.__del__ at 0x000001BD6954C4C0>\n",
      "Traceback (most recent call last):\n",
      "  File \"C:\\ML\\anaconda3\\envs\\llm\\lib\\asyncio\\proactor_events.py\", line 116, in __del__\n",
      "    self.close()\n",
      "  File \"C:\\ML\\anaconda3\\envs\\llm\\lib\\asyncio\\proactor_events.py\", line 108, in close\n",
      "    self._loop.call_soon(self._call_connection_lost, None)\n",
      "  File \"C:\\ML\\anaconda3\\envs\\llm\\lib\\asyncio\\base_events.py\", line 719, in call_soon\n",
      "    self._check_closed()\n",
      "  File \"C:\\ML\\anaconda3\\envs\\llm\\lib\\asyncio\\base_events.py\", line 508, in _check_closed\n",
      "    raise RuntimeError('Event loop is closed')\n",
      "RuntimeError: Event loop is closed\n",
      "INFO:langchain.retrievers.web_research:Grabbing most relevant splits from urls...\n"
     ]
    },
    {
     "data": {
      "text/plain": [
       "{'question': '고래대학교의 학생수는?',\n",
       " 'answer': '고려대학교의 서울 캠퍼스에는 2023년 기준으로 학부생이 20,373명, 대학원생이 9,947명, 교원이 4,408명, 직원이 1,152명이 있습니다. 세종 캠퍼스에는 2023년 기준으로 학부생이 6,574명, 대학원생이 927명, 교원이 765명, 직원이 223명이 있습니다.\\n',\n",
       " 'sources': 'https://namu.wiki/w/%EA%B3%A0%EB%A0%A4%EB%8C%80%ED%95%99%EA%B5%90'}"
      ]
     },
     "execution_count": 31,
     "metadata": {},
     "output_type": "execute_result"
    }
   ],
   "source": [
    "# Run\n",
    "import logging\n",
    "\n",
    "logging.basicConfig()\n",
    "logging.getLogger(\"langchain.retrievers.web_research\").setLevel(logging.INFO)\n",
    "from langchain.chains import RetrievalQAWithSourcesChain\n",
    "\n",
    "#user_input = \"How do LLM Powered Autonomous Agents work?\"\n",
    "#user_input = \"고래대학교의 학생수는?\"\n",
    "user_input = \"고려대학교의 학생수는?\"\n",
    "\n",
    "qa_chain = RetrievalQAWithSourcesChain.from_chain_type(\n",
    "    llm, retriever=web_research_retriever\n",
    ")\n",
    "result = qa_chain({\"question\": user_input})\n",
    "result\n"
   ]
  },
  {
   "cell_type": "markdown",
   "id": "da7aefb8-f67d-47f5-b44a-32936afb5639",
   "metadata": {},
   "source": [
    "#### * APIFY를 활용한 리서치 자동화\n",
    "#### [APIFY](https://apify.com/)\n",
    "* 2015년에 설립된 프라하 기반 스타트업\n",
    "* 대량의 웹 데이터를 수집 및 분석하고 웹 프로세스를 자동화하는 오픈 소스 도구 제공\n",
    "* Apify Store를 운영하며, 필요한 스크래퍼를 등록하여 사용할 수 있음\n",
    "\n",
    "<img src=\"./images/apify00.png\" width=\"800\">\n",
    "<img src=\"./images/apify01.png\" width=\"800\">\n",
    "<img src=\"./images/apify05.png\" width=\"800\">\n",
    "<img src=\"./images/apify02.png\" width=\"800\">\n",
    "<img src=\"./images/apify03.png\" width=\"800\">\n",
    "<img src=\"./images/apify04.png\" width=\"800\">"
   ]
  },
  {
   "cell_type": "code",
   "execution_count": 16,
   "id": "8579dfe3-d9f6-4b42-8761-a95e38d9314f",
   "metadata": {},
   "outputs": [
    {
     "name": "stdout",
     "output_type": "stream",
     "text": [
      " Inspection은 제품, 시설, 문서 등을 세밀하게 조사하거나 검토하는 과정을 의미합니다. 이는 제품의 품질이나 안전성을 확인하기 위해 수행되며, 제품의 결함이나 문제점을 발견하고 수정하는데 사용될 수 있습니다. Inspection은 제품 생산 과정에서 중요한 역할을 하며, 제품의 품질을 보장하기 위해 필수적인 과정입니다.\n"
     ]
    }
   ],
   "source": [
    "from langchain.indexes import VectorstoreIndexCreator\n",
    "from langchain_community.docstore.document import Document\n",
    "from langchain_community.utilities import ApifyWrapper\n",
    "from langchain_community.document_loaders import ApifyDatasetLoader\n",
    "\n",
    "apify = ApifyWrapper()\n",
    "# Call the Actor to obtain text from the crawled webpages\n",
    "\"\"\"\n",
    "1. 수집기를 활용한 방법\n",
    "loader = apify.call_actor(\n",
    "    actor_id=\"apify/website-content-crawler\",\n",
    "    #actor_id=\"astronomical_lizard/naver-blog-scraper\", \n",
    "    #run_input={\"startUrls\": [{\"url\": \"/docs/integrations/chat/\"}]},\n",
    "    run_input={\"startUrls\": [{\"url\": \"https://docs.apify.com/academy/web-scraping-for-beginners\"}]},\n",
    "    dataset_mapping_function=lambda item: Document(\n",
    "        page_content=item[\"full_text\"] or \"\", metadata={\"source\": item[\"url\"]}\n",
    "    ),\n",
    ")\n",
    "\"\"\"\n",
    "# 2. 수집한 데이터 베이스를 활용한 방법\n",
    "loader = ApifyDatasetLoader(\n",
    "    #dataset_id=\"mCkg6zDcTEO5JYX2F\", \n",
    "    dataset_id=\"rneQUybW8o0bUwZpK\", \n",
    "    dataset_mapping_function=lambda item: Document(\n",
    "        page_content=item[\"full_text\"] or \"\", metadata={\"source\": item[\"url\"]}\n",
    "    ),\n",
    ")\n",
    "\n",
    "# Create a vector store based on the crawled data\n",
    "index = VectorstoreIndexCreator().from_loaders([loader])\n",
    "\n",
    "# Query the vector store\n",
    "#query = \"Are any OpenAI chat models integrated in LangChain?\"\n",
    "query = \"Inspection에 대해서 알려주세요\"\n",
    "result = index.query(query)\n",
    "print(result)\n"
   ]
  },
  {
   "cell_type": "markdown",
   "id": "6ddae491-3eaf-425d-8e58-cbc22726cdfb",
   "metadata": {},
   "source": [
    "## 결론\n",
    "- 서비스하기에는 속도가 느리다. (개선할 부분을 찾는 것이 숙제)\n",
    "- 제공되는 Transformer의 세부적인 옵션이 필요하다.\n",
    "  - BeautifulSoup 라이브러리를 사용하는 것이 더 효과적일 수 있다.\n",
    "- 상용 검색엔진과 연동하면 더 효과적으로 서비스할 수 있을 것 같다.\n",
    "- 스크래퍼의 변환 결과와 LLM의 스키마 및 프롬프트 결과를 위한 충분한 테스트 필요\n",
    "\n"
   ]
  }
 ],
 "metadata": {
  "kernelspec": {
   "display_name": "Python 3 (ipykernel)",
   "language": "python",
   "name": "python3"
  },
  "language_info": {
   "codemirror_mode": {
    "name": "ipython",
    "version": 3
   },
   "file_extension": ".py",
   "mimetype": "text/x-python",
   "name": "python",
   "nbconvert_exporter": "python",
   "pygments_lexer": "ipython3",
   "version": "3.8.19"
  }
 },
 "nbformat": 4,
 "nbformat_minor": 5
}
