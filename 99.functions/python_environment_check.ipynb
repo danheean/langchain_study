{
 "cells": [
  {
   "cell_type": "code",
   "execution_count": 1,
   "id": "5dfd7505-6964-4469-9ff0-898a64353661",
   "metadata": {},
   "outputs": [
    {
     "name": "stdout",
     "output_type": "stream",
     "text": [
      "[OK] Your Python version is 3.8.19 (default, Mar 20 2024, 19:55:45) [MSC v.1916 64 bit (AMD64)]\n"
     ]
    },
    {
     "name": "stderr",
     "output_type": "stream",
     "text": [
      "C:\\Users\\danhe\\AppData\\Local\\Temp\\ipykernel_5276\\2943215026.py:4: DeprecationWarning: distutils Version classes are deprecated. Use packaging.version instead.\n",
      "  if LooseVersion(sys.version) < LooseVersion('3.8'):\n"
     ]
    }
   ],
   "source": [
    "import sys\n",
    "from distutils.version import LooseVersion\n",
    "\n",
    "if LooseVersion(sys.version) < LooseVersion('3.8'):\n",
    "    print('[FAIL] We recommend Python 3.8 or newer but'\n",
    "          ' found version %s' % (sys.version))\n",
    "else:\n",
    "    print('[OK] Your Python version is %s' % (sys.version))\n"
   ]
  },
  {
   "cell_type": "code",
   "execution_count": 6,
   "id": "1816c1e8-c7a3-46d6-a131-8ddab1d6ec8d",
   "metadata": {},
   "outputs": [],
   "source": [
    "def get_packages(pkgs):\n",
    "    versions = []\n",
    "    print(pkgs)\n",
    "    for p in pkgs:\n",
    "        print(p)\n",
    "        try:\n",
    "            imported = __import__(p)\n",
    "            try:\n",
    "                versions.append(imported.__version__)\n",
    "            except AttributeError:\n",
    "                try:\n",
    "                    versions.append(imported.version)\n",
    "                except AttributeError:\n",
    "                    try:\n",
    "                        versions.append(imported.version_info)\n",
    "                    except AttributeError:\n",
    "                        versions.append('0.0')\n",
    "        except ImportError:\n",
    "            print(f'[FAIL]: {p} is not installed and/or cannot be imported.')\n",
    "            versions.append('N/A')\n",
    "    return versions\n"
   ]
  },
  {
   "cell_type": "code",
   "execution_count": 3,
   "id": "3bad1b78-7b6d-42cd-96b2-b400af2b760b",
   "metadata": {},
   "outputs": [],
   "source": [
    "def check_packages(d):\n",
    "\n",
    "    versions = get_packages(d.keys())\n",
    "\n",
    "    for (pkg_name, suggested_ver), actual_ver in zip(d.items(), versions):\n",
    "        print(actual_ver)\n",
    "        if actual_ver == 'N/A':\n",
    "            continue\n",
    "        actual_ver, suggested_ver = LooseVersion(actual_ver), LooseVersion(suggested_ver)\n",
    "        if actual_ver < suggested_ver:\n",
    "            print(f'[FAIL] {pkg_name} {actual_ver}, please upgrade to >= {suggested_ver}')\n",
    "        else:\n",
    "            print(f'[OK] {pkg_name} {actual_ver}')"
   ]
  },
  {
   "cell_type": "code",
   "execution_count": 7,
   "id": "eb61658a-928f-471e-9ecc-476d5dc2f1fd",
   "metadata": {},
   "outputs": [
    {
     "name": "stdout",
     "output_type": "stream",
     "text": [
      "dict_keys(['beautifulsoup4'])\n",
      "beautifulsoup4\n",
      "[FAIL]: beautifulsoup4 is not installed and/or cannot be imported.\n",
      "N/A\n"
     ]
    }
   ],
   "source": [
    "    d = {\n",
    "        'beautifulsoup4': '1.3.2'\n",
    "    }\n",
    "    check_packages(d)"
   ]
  }
 ],
 "metadata": {
  "kernelspec": {
   "display_name": "Python 3 (ipykernel)",
   "language": "python",
   "name": "python3"
  },
  "language_info": {
   "codemirror_mode": {
    "name": "ipython",
    "version": 3
   },
   "file_extension": ".py",
   "mimetype": "text/x-python",
   "name": "python",
   "nbconvert_exporter": "python",
   "pygments_lexer": "ipython3",
   "version": "3.8.19"
  }
 },
 "nbformat": 4,
 "nbformat_minor": 5
}
