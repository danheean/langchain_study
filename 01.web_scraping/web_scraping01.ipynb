{
 "cells": [
  {
   "cell_type": "markdown",
   "id": "c5e06f70-de37-4d9b-a14d-2ba4ab1d891a",
   "metadata": {},
   "source": [
    "## Web scraping(웹 스크래핑, 문서 수집하기)\n",
    "[Open In Colab](https://colab.research.google.com/github/langchain-ai/langchain/blob/v0.1/docs/docs/use_cases/web_scraping.ipynb)\n",
    "\n",
    "웹 리서치는 대표적인 LLM 응용 프로그램\n",
    "- 사용자들이 가장 관심가지는 분야중의 하나\n",
    "- LLM의 한계점인 최신 정보를 가져올 수 있음\n",
    "- [Gpt-researcher](https://github.com/assafelovic/gpt-researcher) 인기 상승  \n",
    "<img src=\"./images/gpt-researcher.jpg\" width=\"600\"> <img src=\"./images/gpt-researcher_architecture.png\" width=\"398\">\n"
   ]
  },
  {
   "cell_type": "markdown",
   "id": "223f43d9-e074-4af5-bfb0-83d186bf408c",
   "metadata": {},
   "source": [
    "### 구성도\n",
    "![](./images/web_scraping.png)"
   ]
  },
  {
   "cell_type": "markdown",
   "id": "2d727f06-f2a7-465f-b353-23a9c7ad258f",
   "metadata": {},
   "source": [
    "\n",
    "### 주요 컴포넌트\n",
    "- Searcher(검색)\n",
    "  - 1. 쿼리 생성 (유의어를 포함한 자동 확장)\n",
    "  - 2. URL 생성\n",
    "  - ex) GoogleSearchAPIWrapper\n",
    "- Loader(수집)\n",
    "  - URL로 문서 가져오기\n",
    "  - [AsyncHtmlLoader](https://api.python.langchain.com/en/latest/document_loaders/langchain_community.document_loaders.async_html.AsyncHtmlLoader.html)\n",
    "    - [Document loaders](https://python.langchain.com/v0.2/docs/integrations/document_loaders/)\n",
    "    - aiohttp 라이브러리를 사용하여 비동기 HTTP로 HTML 문서를 수집\n",
    "    - 단순한 웹사이트 자료를 가져오는데 적합\n",
    "  - [AsyncChromiumLoader](https://api.python.langchain.com/en/latest/document_loaders/langchain_community.document_loaders.chromium.AsyncChromiumLoader.html)\n",
    "    - Playwright를 사용하여 Chromium 인스턴스를 실행하여 HTML 문서를 가져옴\n",
    "    - 인증이 있거나(카페 자료) 자바스크립트 등의 복잡한 사이트(쇼핑몰)에 적합\n",
    "    - 카페의 자료는 상대적으로 주제가 한정되고, 고품질의 데이터가 많이 있음\n",
    "    - Chromium은 Playwright에서 지원하는 브라우저 중 하나이며, chromium, ffmpeg, firefox, webkit등이 있음\n",
    "    - 헤드리스 모드를 사용하면 브라우저가 실행되지 않아서 속도가 빠름\n",
    "- Transformer(변환)\n",
    "  - HTML 코드 전처리\n",
    "  - HTML2Text\n",
    "    - 태그를 제외한 텍스트 추출\n",
    "  - BeautifulSoup\n",
    "    - 태그를 DOM Tree로 변환한후 텍스트 추출\n",
    "    - 사용자가 원하는 내용만 정확하게 추출할 수 있음\n",
    "\n",
    "### Scraper 주의 사항\n",
    "- 크롤러 vs 스크래퍼\n",
    "  - 크롤러: 특정 웹 사이트 내 '모든' 하이퍼링크를 순회하면서 자료 수집\n",
    "  - 스크래퍼: 웹 페이지에서 '필요한' 부분만 수집\n",
    "- 짧은 시간 동안 서버에 자료를 요청\n",
    "  - 목적지 서버에 부하를 가중시킬 수 있음\n",
    "  - 출발지 IP 차단 가능성\n",
    "    - 차단될 경우 해제 요청을 수동으로 진행하거나 일정 시간이 지나야 다시 접근할 수 있음\n",
    "    - 출발지가 차단될 경우 공인 IP가 차단되므로 같은 공간의 모든 네트워크가 차단될 수 있음\n",
    "\n",
    "### Resources\n",
    " - [랭체인(langchain) + 웹사이트 정보 추출 - 스키마 활용법 (6)](https://teddylee777.github.io/langchain/langchain-tutorial-06/)\n",
    " - [LangChain > Use cases > More > Web scraping](https://python.langchain.com/v0.1/docs/use_cases/web_scraping/)\n"
   ]
  },
  {
   "cell_type": "markdown",
   "id": "f18d0a54-02c7-4594-b4b0-7599f00d9fa4",
   "metadata": {},
   "source": [
    "### 데모 순서\n",
    "#### 1. Loader(AsyncHtmlLoader, AsyncChromiumLoader)\n",
    "#### 2. Transformer(Html2Text, Beautifulsoup)\n",
    "#### 3. Scraping with extraction\n",
    "#### 4. Research automation"
   ]
  },
  {
   "cell_type": "code",
   "execution_count": 1,
   "id": "4ea33bd0-2bb5-4730-86a7-aac76191639f",
   "metadata": {},
   "outputs": [
    {
     "name": "stdout",
     "output_type": "stream",
     "text": [
      "[OK] Your Python version is 3.11.9 (main, May 28 2024, 08:05:11) [GCC 8.5.0 20210514 (Red Hat 8.5.0-20)]\n"
     ]
    }
   ],
   "source": [
    "from python_environment_check import check_packages\n",
    "\n",
    "lib = {\n",
    "    'langchain-openai': '0.1.7',\n",
    "    'langchain-core': '0.2.0',\n",
    "    'langchain': '0.0.354',\n",
    "    'langchain_text_splitters': '0.2.0',\n",
    "    'playwright': '1.44.0',\n",
    "    'beautifulsoup4': '4.12.2',\n",
    "    'html2text': '2024.2.26',\n",
    "    'dotenv': '0.0.5',\n",
    "    'nest_asyncio': '1.6.0',\n",
    "}\n",
    "\n",
    "#check_packages(lib)"
   ]
  },
  {
   "cell_type": "code",
   "execution_count": 8,
   "id": "a3ef7a38-d028-4685-9a53-bdfe4d962901",
   "metadata": {},
   "outputs": [],
   "source": [
    "import os\n",
    "import dotenv\n",
    "dotenv.load_dotenv('envls')\n",
    "\n",
    "# 주피터 노트북에서 사용할 경우 미리 실행해야 함\n",
    "import nest_asyncio\n",
    "nest_asyncio.apply()\n",
    "\n"
   ]
  },
  {
   "cell_type": "markdown",
   "id": "185be0e1",
   "metadata": {},
   "source": [
    "# 미리 설치해야 함\n",
    "# pip install playwright\n",
    "# !playwright install\n",
    "# Rocky8\n",
    "# Chromium\n",
    "sudo dnf update -y && \\\n",
    "    dnf install -y alsa-lib \\\n",
    "    at-spi2-atk \\\n",
    "    at-spi2-core \\\n",
    "    atk \\\n",
    "    bash \\\n",
    "    cairo \\\n",
    "    cups-libs \\\n",
    "    dbus-libs \\\n",
    "    expat \\\n",
    "    flac-libs \\\n",
    "    gdk-pixbuf2 \\\n",
    "    glib2 \\\n",
    "    glibc \\\n",
    "    gtk3 \\\n",
    "    libX11 \\\n",
    "    libXcomposite \\\n",
    "    libXdamage \\\n",
    "    libXext \\\n",
    "    libXfixes \\\n",
    "    libXrandr \\\n",
    "    libXtst \\\n",
    "    libcanberra-gtk3 \\\n",
    "    libdrm \\\n",
    "    libgcc \\\n",
    "    libstdc++ \\\n",
    "    libxcb \\\n",
    "    libxkbcommon \\\n",
    "    libxshmfence \\\n",
    "    libxslt \\\n",
    "    mesa-libgbm \\\n",
    "    nspr \\\n",
    "    nss \\\n",
    "    nss-util \\\n",
    "    pango \\\n",
    "    policycoreutils \\\n",
    "    policycoreutils-python-utils \\\n",
    "    zlib \n",
    "\n",
    "# firefox\n",
    "    sudo dnf install -y atk \\\n",
    "    bash \\\n",
    "    cairo \\\n",
    "    cairo-gobject \\\n",
    "    dbus-glib \\\n",
    "    dbus-libs \\\n",
    "    fontconfig \\\n",
    "    freetype \\\n",
    "    gdk-pixbuf2 \\\n",
    "    glib2 \\\n",
    "    glibc \\\n",
    "    gtk2 \\\n",
    "    gtk3 \\\n",
    "    libX11 \\\n",
    "    libX11-xcb \\\n",
    "    libXcomposite \\\n",
    "    libXcursor \\\n",
    "    libXdamage \\\n",
    "    libXext \\\n",
    "    libXfixes \\\n",
    "    libXi \\\n",
    "    libXrender \\\n",
    "    libXt \\\n",
    "    liberation-fonts-common \\\n",
    "    liberation-sans-fonts \\\n",
    "    libffi \\\n",
    "    libgcc \\\n",
    "    libstdc++ \\\n",
    "    libxcb \\\n",
    "    mozilla-filesystem \\\n",
    "    nspr \\\n",
    "    nss \\\n",
    "    nss-util \\\n",
    "    p11-kit-trust \\\n",
    "    pango \\\n",
    "    pipewire-libs \\\n",
    "    zlib \n",
    "\n",
    "# Webkit dependency\n",
    "sudo dnf install -y harfbuzz-icu \\\n",
    "    libglvnd-glx \\\n",
    "    libglvnd-egl \\\n",
    "    libnotify \\\n",
    "    opus \\\n",
    "    woff2 \\\n",
    "    gstreamer1-plugins-base \\\n",
    "    gstreamer1-plugins-bad-free \\\n",
    "    openjpeg2 \\\n",
    "    libwebp \\\n",
    "    enchant \\\n",
    "    libsecret \\\n",
    "    hyphen \\\n",
    "    libglvnd-gles\n"
   ]
  },
  {
   "cell_type": "code",
   "execution_count": 18,
   "id": "6d89ead7-e859-4b31-9b21-f99234729c85",
   "metadata": {},
   "outputs": [],
   "source": [
    "# Sample url\n",
    "sample_url = [\"https://www.korea.ac.kr/user/boardList.do?boardId=134&siteId=university&page=1&id=university_060103000000&boardSeq=498426&command=albumView\"]"
   ]
  },
  {
   "cell_type": "markdown",
   "id": "932a5a30-5571-4c0c-9b6b-5bf43bd89b23",
   "metadata": {},
   "source": [
    "### Loader(AsyncHtmlLoader, AsyncChromiumLoader)\n",
    "#### 샘플 사이트\n",
    "<img src=\"./images/sample_site.png\" width=\"800\">"
   ]
  },
  {
   "cell_type": "code",
   "execution_count": 19,
   "id": "d4a4f761-3d93-4e31-8072-da1e6fe1941e",
   "metadata": {},
   "outputs": [
    {
     "name": "stderr",
     "output_type": "stream",
     "text": [
      "Fetching pages: 100%|##########| 1/1 [00:00<00:00,  1.41it/s]\n"
     ]
    },
    {
     "name": "stdout",
     "output_type": "stream",
     "text": [
      "<class 'list'> \n",
      "\n",
      "\n",
      "\n",
      "\n",
      "\n",
      "\n",
      "\n",
      "\n",
      "\n",
      "\n",
      "\n",
      "\t\n",
      "\n",
      "\n",
      "\n",
      "\n",
      "\n",
      "\n",
      "\n",
      "\n",
      "\n",
      "\n",
      "\n",
      "\n",
      "\n",
      "<!doctype html>\n",
      "<html lang=\"ko\">\n",
      "\n",
      "<head>\n",
      "    <meta charset=\"utf-8\" />\n",
      "    \n",
      "    <title>고대소식|고대뉴스|행사 · 이벤트</title>\n",
      "    \n",
      "\n",
      "    <script type=\"text/javascript\" src=\"/mbshome/mbs/university/js/jquery-1.9.1.min.js\"></script>\n",
      "    <script type=\"text/javascript\" src=\"/mbshome/mbs/university/js/jquery-ui.js\"></script>\n",
      "    <!-- <script type=\"text/javascript\" src=\"/mbshome/mbs/university/js/jquery.easing.1.3.min.js\"></script> -->\n",
      "    <script type=\"text/javascript\" sr\n"
     ]
    }
   ],
   "source": [
    "from langchain_community.document_loaders import AsyncHtmlLoader\n",
    "\n",
    "asynchtml_loader = AsyncHtmlLoader(sample_url)\n",
    "html = asynchtml_loader.load()\n",
    "\n",
    "print(type(html), html[0].page_content[:500])"
   ]
  },
  {
   "cell_type": "code",
   "execution_count": 20,
   "id": "b79c420c-2c4d-4d73-a683-572b54989019",
   "metadata": {},
   "outputs": [
    {
     "name": "stdout",
     "output_type": "stream",
     "text": [
      "<class 'list'> <!DOCTYPE html><html lang=\"ko\"><head>\n",
      "    <meta charset=\"utf-8\">\n",
      "    \n",
      "    <title>고대소식|고대뉴스|행사 · 이벤트</title>\n",
      "    \n",
      "\n",
      "    <script type=\"text/javascript\" async=\"\" src=\"https://www.google-analytics.com/analytics.js\"></script><script type=\"text/javascript\" async=\"\" src=\"https://www.googletagmanager.com/gtag/js?id=G-DMLBB3K4EV&amp;cx=c&amp;_slc=1\"></script><script type=\"text/javascript\" async=\"\" src=\"https://www.googletagmanager.com/gtag/js?id=UA-101799370&amp;l=dataLayer&amp;cx=c\"></script><script asyn\n"
     ]
    }
   ],
   "source": [
    "from langchain_community.document_loaders import AsyncChromiumLoader\n",
    "\n",
    "loader = AsyncChromiumLoader(sample_url)\n",
    "html = loader.load()\n",
    "\n",
    "print(type(html), html[0].page_content[:500])"
   ]
  },
  {
   "cell_type": "markdown",
   "id": "c42d8020-480f-4f9f-8092-b9ed5653a3b0",
   "metadata": {},
   "source": [
    "### Transformer(Html2Text, Beautifulsoup)\n",
    "#### 샘플 사이트\n",
    "<img src=\"./images/sample_site.png\" width=\"800\">"
   ]
  },
  {
   "cell_type": "code",
   "execution_count": 22,
   "id": "adc6de08-0579-4804-8942-964867d03ce0",
   "metadata": {},
   "outputs": [
    {
     "data": {
      "text/plain": [
       "'  * 세종캠퍼스\\n  * 의료원\\n  * KUPID\\n  * 발전기금\\n  * 120주년 기념 사업\\n\\n  * Group Service\\n    * 예비고대인\\n    * 학생·학부모·교직원\\n    * 일반인·교우\\n    * 장애인\\n  * 로그인\\n  * ENG\\n\\n검색창 열기\\n\\n검색어 입력 go\\n\\n# 고려대학교\\n\\n  * 고대소개\\n\\n## 고대소개\\n\\nKorea University Since 1905\\n\\n    * 대학현황\\n\\n      * 현황\\n      * 조직도\\n      * 윤리헌장\\n      * 학교규칙\\n      * 법인\\n\\n    * 총장실\\n\\n      * 총장 인사말\\n      * Speeches\\n      * 총장약력\\n      * 총장동정\\n      * 역대총장\\n\\n    * 고대비전\\n\\n      * 교육목표\\n      * 120주년 기념사업\\n\\n    * 상징\\n\\n      * UI\\n      * 단과대학/대학원 상징\\n      * 고대의 상징물\\n      * 마스코트\\n      * 캐릭터\\n'"
      ]
     },
     "execution_count": 22,
     "metadata": {},
     "output_type": "execute_result"
    }
   ],
   "source": [
    "from langchain_community.document_transformers import Html2TextTransformer\n",
    "\n",
    "html2text = Html2TextTransformer()\n",
    "docs_transformed = html2text.transform_documents(html)\n",
    "docs_transformed[0].page_content[0:500]"
   ]
  },
  {
   "cell_type": "code",
   "execution_count": 23,
   "id": "4591d63c-8509-42e5-b911-9df99a3b3135",
   "metadata": {},
   "outputs": [
    {
     "data": {
      "text/plain": [
       "'고대소식|고대뉴스|행사 · 이벤트'"
      ]
     },
     "execution_count": 23,
     "metadata": {},
     "output_type": "execute_result"
    }
   ],
   "source": [
    "# print(html)\n",
    "from langchain_community.document_transformers import BeautifulSoupTransformer\n",
    "\n",
    "bs_transformer = BeautifulSoupTransformer()\n",
    "docs_transformed = bs_transformer.transform_documents(html, tags_to_extract=[\"title\"])\n",
    "\n",
    "# Result\n",
    "docs_transformed[0].page_content[:500]"
   ]
  },
  {
   "cell_type": "markdown",
   "id": "18231382-eb14-4124-8689-fd2fd1b31bc3",
   "metadata": {},
   "source": [
    "---\n",
    "\n",
    "### 3. Scraping with extraction (LLM을 사용하여 스크래핑)\n",
    "- 웹 스크래핑 작업이 쉽지 않은 이유\n",
    "  - 목적지 사이트의 레이아웃이나 콘텐츠가 변경될 수 있음\n",
    "  - 기존 스크래퍼는 HTML 코드 일부만 변경되어도 프로그램이 정상적으로 동작하지 않음\n",
    "  - LLM을 사용하면 문맥을 통해 추출하기 때문에 기존 스크래퍼 한계를 보완할 수 있다.\n",
    "\n",
    "#### 샘플 사이트\n",
    "<img src=\"./images/sample_naver_news01.png\" width=\"605\"> <img src=\"./images/sample_naver_news02.png\" width=\"440\">"
   ]
  },
  {
   "cell_type": "code",
   "execution_count": 28,
   "id": "608b31e5-faf4-44b4-9d1c-e23edda95632",
   "metadata": {},
   "outputs": [
    {
     "ename": "ImportError",
     "evalue": "cannot import name 'LangSmithParams' from 'langchain_core.language_models.chat_models' (/home/www/.pyenv/versions/3.11.9/envs/langchain/lib/python3.11/site-packages/langchain_core/language_models/chat_models.py)",
     "output_type": "error",
     "traceback": [
      "\u001b[0;31m---------------------------------------------------------------------------\u001b[0m",
      "\u001b[0;31mImportError\u001b[0m                               Traceback (most recent call last)",
      "Cell \u001b[0;32mIn[28], line 1\u001b[0m\n\u001b[0;32m----> 1\u001b[0m \u001b[38;5;28;01mfrom\u001b[39;00m \u001b[38;5;21;01mlangchain_openai\u001b[39;00m \u001b[38;5;28;01mimport\u001b[39;00m ChatOpenAI \u001b[38;5;66;03m# langchain==0.1\u001b[39;00m\n\u001b[1;32m      2\u001b[0m \u001b[38;5;66;03m#from langchain_openai.chat_models.base import ChatOpenAI # langchain==0.2\u001b[39;00m\n\u001b[1;32m      4\u001b[0m llm \u001b[38;5;241m=\u001b[39m ChatOpenAI(temperature\u001b[38;5;241m=\u001b[39m\u001b[38;5;241m0\u001b[39m, model\u001b[38;5;241m=\u001b[39m\u001b[38;5;124m\"\u001b[39m\u001b[38;5;124mgpt-3.5-turbo-0613\u001b[39m\u001b[38;5;124m\"\u001b[39m)\n",
      "File \u001b[0;32m~/.pyenv/versions/3.11.9/envs/langchain/lib/python3.11/site-packages/langchain_openai/__init__.py:1\u001b[0m\n\u001b[0;32m----> 1\u001b[0m \u001b[39mfrom\u001b[39;00m \u001b[39mlangchain_openai\u001b[39;00m\u001b[39m.\u001b[39;00m\u001b[39mchat_models\u001b[39;00m \u001b[39mimport\u001b[39;00m (\n\u001b[1;32m      2\u001b[0m     AzureChatOpenAI,\n\u001b[1;32m      3\u001b[0m     ChatOpenAI,\n\u001b[1;32m      4\u001b[0m )\n\u001b[1;32m      5\u001b[0m \u001b[39mfrom\u001b[39;00m \u001b[39mlangchain_openai\u001b[39;00m\u001b[39m.\u001b[39;00m\u001b[39membeddings\u001b[39;00m \u001b[39mimport\u001b[39;00m (\n\u001b[1;32m      6\u001b[0m     AzureOpenAIEmbeddings,\n\u001b[1;32m      7\u001b[0m     OpenAIEmbeddings,\n\u001b[1;32m      8\u001b[0m )\n\u001b[1;32m      9\u001b[0m \u001b[39mfrom\u001b[39;00m \u001b[39mlangchain_openai\u001b[39;00m\u001b[39m.\u001b[39;00m\u001b[39mllms\u001b[39;00m \u001b[39mimport\u001b[39;00m AzureOpenAI, OpenAI\n",
      "File \u001b[0;32m~/.pyenv/versions/3.11.9/envs/langchain/lib/python3.11/site-packages/langchain_openai/chat_models/__init__.py:1\u001b[0m\n\u001b[0;32m----> 1\u001b[0m \u001b[39mfrom\u001b[39;00m \u001b[39mlangchain_openai\u001b[39;00m\u001b[39m.\u001b[39;00m\u001b[39mchat_models\u001b[39;00m\u001b[39m.\u001b[39;00m\u001b[39mazure\u001b[39;00m \u001b[39mimport\u001b[39;00m AzureChatOpenAI\n\u001b[1;32m      2\u001b[0m \u001b[39mfrom\u001b[39;00m \u001b[39mlangchain_openai\u001b[39;00m\u001b[39m.\u001b[39;00m\u001b[39mchat_models\u001b[39;00m\u001b[39m.\u001b[39;00m\u001b[39mbase\u001b[39;00m \u001b[39mimport\u001b[39;00m ChatOpenAI\n\u001b[1;32m      4\u001b[0m __all__ \u001b[39m=\u001b[39m [\n\u001b[1;32m      5\u001b[0m     \u001b[39m\"\u001b[39m\u001b[39mChatOpenAI\u001b[39m\u001b[39m\"\u001b[39m,\n\u001b[1;32m      6\u001b[0m     \u001b[39m\"\u001b[39m\u001b[39mAzureChatOpenAI\u001b[39m\u001b[39m\"\u001b[39m,\n\u001b[1;32m      7\u001b[0m ]\n",
      "File \u001b[0;32m~/.pyenv/versions/3.11.9/envs/langchain/lib/python3.11/site-packages/langchain_openai/chat_models/azure.py:9\u001b[0m\n\u001b[1;32m      6\u001b[0m \u001b[39mfrom\u001b[39;00m \u001b[39mtyping\u001b[39;00m \u001b[39mimport\u001b[39;00m Any, Callable, Dict, List, Optional, Union\n\u001b[1;32m      8\u001b[0m \u001b[39mimport\u001b[39;00m \u001b[39mopenai\u001b[39;00m\n\u001b[0;32m----> 9\u001b[0m \u001b[39mfrom\u001b[39;00m \u001b[39mlangchain_core\u001b[39;00m\u001b[39m.\u001b[39;00m\u001b[39mlanguage_models\u001b[39;00m\u001b[39m.\u001b[39;00m\u001b[39mchat_models\u001b[39;00m \u001b[39mimport\u001b[39;00m LangSmithParams\n\u001b[1;32m     10\u001b[0m \u001b[39mfrom\u001b[39;00m \u001b[39mlangchain_core\u001b[39;00m\u001b[39m.\u001b[39;00m\u001b[39moutputs\u001b[39;00m \u001b[39mimport\u001b[39;00m ChatResult\n\u001b[1;32m     11\u001b[0m \u001b[39mfrom\u001b[39;00m \u001b[39mlangchain_core\u001b[39;00m\u001b[39m.\u001b[39;00m\u001b[39mpydantic_v1\u001b[39;00m \u001b[39mimport\u001b[39;00m Field, SecretStr, root_validator\n",
      "\u001b[0;31mImportError\u001b[0m: cannot import name 'LangSmithParams' from 'langchain_core.language_models.chat_models' (/home/www/.pyenv/versions/3.11.9/envs/langchain/lib/python3.11/site-packages/langchain_core/language_models/chat_models.py)"
     ]
    }
   ],
   "source": [
    "#from langchain_openai import ChatOpenAI # langchain==0.1\n",
    "from langchain_openai.chat_models.base import ChatOpenAI # langchain==0.2\n",
    "\n",
    "llm = ChatOpenAI(temperature=0, model=\"gpt-3.5-turbo-0613\")\n"
   ]
  },
  {
   "cell_type": "code",
   "execution_count": 131,
   "id": "b4cdf5b2-0d7c-4012-9353-acfe86fc4b4b",
   "metadata": {},
   "outputs": [],
   "source": [
    "from langchain.chains import create_extraction_chain\n",
    "\n",
    "schema = {\n",
    "    \"properties\": {\n",
    "        \"뉴스 출처\": {\"type\": \"string\"},\n",
    "        \"뉴스 제목\": {\"type\": \"string\"},\n",
    "        \"뉴스 요약\": {\"type\": \"string\"},\n",
    "        \"뉴스 URL\" : {\"type\": \"string\"},\n",
    "    },\n",
    "    \"required\": [\"뉴스 출처\", \"뉴스 제목\", \"뉴스 요약\", \"뉴스 URL\"],\n",
    "    #\"required\": [\"뉴스 출처\", \"뉴스 제목\"],\n",
    "}\n",
    "\n",
    "\n",
    "def extract(content: str, schema: dict):\n",
    "    return create_extraction_chain(schema=schema, llm=llm).run(content)"
   ]
  },
  {
   "cell_type": "code",
   "execution_count": 132,
   "id": "326d9b9f-b8ee-4ecb-8d35-ee983ad455ba",
   "metadata": {
    "scrolled": true
   },
   "outputs": [
    {
     "name": "stdout",
     "output_type": "stream",
     "text": [
      "3245\n",
      "[Document(page_content='연합뉴스 https://www.yna.co.kr/ 박진만 삼성 라이온즈 감독 https://www.yna.co.kr/view/PYH20240521184900007?input=1196m 박진만 삼성 라이온즈 감독이 21일 대구삼성라이온즈파크에서 열리는 2024 프로야구 kt wiz와 홈 경기를 앞두고 인터뷰하고 있다. 2024.5.21 https://www.yna.co.kr/view/PYH20240521184900007?input=1196m 경북매일신문 http://www.kbmaeil.com 소진공 대경본부 \\'전통시장×라이온즈 홈런치장\\' 행사 http://www.kbmaeil.com/news/articleView.html?idxno=997137 지난해 진행된 \\'전통시장x스포츠\\' 이벤트 행사에 삼성라이온즈 야구 경기를 보러온 관람객들이 참여하고 있는 모습 소상공인시장진흥공단(이하 소진공) 대구경북지역본부가 22일 대구삼성라이온즈파크에서 \\'전통시장×라이온즈 홈런치장(場)\\'행사를 개최한다. 이번 행사는 오는 28일까지 진행되는 5월... http://www.kbmaeil.com/news/articleView.html?idxno=997137 매일신문 https://www.imaeil.com/ \\'원태인 아쉬운 투구\\' 삼성 라이온즈, 김영웅 3점포에도 KT에 패배 https://www.imaeil.com/page/view/2024052118061452630 삼성 라이온즈가 21일 대구 삼성라이온즈파크에서 연장 접전 끝에 KT 위즈에 5대8로 패했다. 선발 등판한 에이스 원태인이 5이닝 7피안타 3실점에 그친 게 아쉬웠다. 경기 후반 김영웅이 3점 홈런을 터뜨려 승부를 연장으로 몰고 갔으나 끝내 웃지 못했다. 스물넷에 불과하지만 원태인은 이미 삼성의 에이스.... https://www.imaeil.com/page/view/2024052118061452630 대구일보 http://www.idaegu.com 상위권 달리는 삼성 라이온즈…흥행 성적도 \\'쑥쑥\\' https://www.idaegu.com/news/articleView.html?idxno=603951 올 시즌이 3분의 1도 채 지나지 않은 시점에 대구 삼성라이온즈파크(라팍)의 최단기간 매진 기록이 새롭게 써졌다. 시즌 초반 \\'최약체 후보\\'란 주위 평가를 딛고 삼성이 선전하자, 야구장 발길을 끊었던 대구팬들이 경기장을 다시 찾는 것. 21일 삼성 라이온즈에 따르면 지난 주말 2024 신한은행 SOL... https://www.idaegu.com/news/articleView.html?idxno=603951 대구MBC https://dgmbc.com/ [만평] 승리를 가져오는 삼성라이온즈 이성규의 홈런포 https://dgmbc.com/article/gVICr3vPShrHxw4a 올 시즌 프로야구 삼성라이온즈가 경기마다 터지는 홈런포로 팬들을 열광시키고 있는데요. 홈런 11개로 팀 리그 전체 5위를 기록 중인 김영웅의 활약도 눈부시지만, 이성규 선수의 홈런은 팀 승리 공식으로 자리 잡을 정도로 효과 만점이라지 뭡니까요! 삼성라이온즈 박진만 감독, \"이성규 선수가 비록 하위... https://dgmbc.com/article/gVICr3vPShrHxw4a TBC http://www.tbc.co.kr 이 시각 삼성라이온즈 https://www.tbc.co.kr/news/view?pno=20240521165321AE02808&id=187206 단독 2위로 순항 중인 삼성라이온즈가 이번 주 8위 KT와 최하위 롯데를 만나 승수 쌓기를 시도합니다. 오늘은 에이스 원태인이 KT를 상대로 시즌 6승 도전에 나섰습니다. 라팍 연결해 현재 상황 알아봅니다. 김대진 캐스터! [기자] https://www.tbc.co.kr/news/view?pno=20240521165321AE02808&id=187206 잡포스트 http://www.job-post.co.kr/ 삼성 라이온즈 선수 트렌드지수 \\'1위\\' 알려드립니다 https://www.job-post.co.kr/news/articleView.html?idxno=105034 5월 3주차 기준 삼성 라이온즈 선수 트렌드지수 순위를 랭키파이가 알아봤다. 현재 삼성 라이온즈 선수 부문은 최근 많이 언급되어 대중들의 관심도가 높은 것으로 전해졌다. 트렌드지수는 전주 키워드 검색량과 구글 트렌드점수를 합산해 도출된다. 구자욱은 11,355포인트로 전주보다 4... https://www.job-post.co.kr/news/articleView.html?idxno=105034 대구MBC https://dgmbc.com/ KT-롯데 만나는 삼성라이온즈···선두 추격 발판 마련하나 https://dgmbc.com/article/rrHaM-a8Cu 위닝시리즈로 한화이글스와의 홈 3연전을 마친 삼성라이온즈가 이번 주 순위표상 아래쪽에 있는 KT와 롯데를 차례로 상대합니다. 주말 3연전에서 먼저... 위해 승수 쌓기가 절실한 삼성의 이번 주 KT와의 주중 3연전 1, 2차전을 오후 6시 반부터 이틀 연속 라디오로 중계방송합니다. (사진 제공 삼성라이온즈) https://dgmbc.com/article/rrHaM-a8Cu 이투데이 http://www.etoday.co.kr 류현진 무실점·홈런 4방 폭발…한화, 삼성에 12-2 대승 https://www.etoday.co.kr/news/view/2361215 한화는 19일 대구 삼성라이온즈파크에서 열린 2024 신한 SOL뱅크 KBO리그 원정 경기에서 삼성 라이온즈를 12-2로 완파하고 4연패 사슬을 끊었다. 이날 선발 등판한 류현진은 5이닝 3피안타 1볼넷 4탈삼진 무실점 호투로 승리투수가 됐다. 지난달 30일 시즌 2승이자 KBO 통산 100승을 기록한 류현진은 19일... https://www.etoday.co.kr/news/view/2361215 대구일보 http://www.idaegu.com 삼성 라이온즈, 류현진에 꽁꽁 묶이며 \\'만원\\' 관중 앞 대패…위닝시리즈에 만... https://www.idaegu.com/news/articleView.html?idxno=603930 5선발 이호성이 이른 시간 무너지는 탓에 삼성 라이온즈가 만원 관중 앞에서 시리즈 싹쓸이에 실패했다. 삼성 라이온즈는 19일 대구 삼성라이온즈파크에서 열린 2024 신한 SOL 뱅크 KBO 리그 한화 이글스와의 홈경기를 2대 12로 내줬다. 지난 17일과 18일 홈 만원 관중 앞에서 각각 7대 5와 9대 8로 승리를 거두며... https://www.idaegu.com/news/articleView.html?idxno=603930', metadata={'source': ['https://search.naver.com/search.naver?sm=tab_hty.top&where=news&ssc=tab.news.all&query=%EB%9D%BC%EC%9D%B4%EC%98%A8%EC%A6%88&oquery=%EC%82%BC%EC%84%B1&tqi=iCyRydpzL8VssNVAU%2FGssssstkd-519064']})]\n",
      "Extracting content with LLM\n",
      "2\n",
      "[{'뉴스 URL': 'https://www.yna.co.kr/view/PYH20240521184900007?input=1196m',\n",
      "  '뉴스 요약': '박진만 삼성 라이온즈 감독이 21일 대구삼성라이온즈파크에서 열리는 2024 프로야구 kt wiz와 홈 경기를 앞두고 '\n",
      "           '인터뷰하고 있다.',\n",
      "  '뉴스 제목': '박진만 삼성 라이온즈 감독',\n",
      "  '뉴스 출처': '연합뉴스'},\n",
      " {'뉴스 URL': 'http://www.kbmaeil.com/news/articleView.html?idxno=997137',\n",
      "  '뉴스 요약': \"소상공인시장진흥공단(이하 소진공) 대구경북지역본부가 22일 대구삼성라이온즈파크에서 '전통시장×라이온즈 \"\n",
      "           \"홈런치장(場)'행사를 개최한다.\",\n",
      "  '뉴스 제목': \"소진공 대경본부 '전통시장×라이온즈 홈런치장' 행사\",\n",
      "  '뉴스 출처': '경북매일신문'},\n",
      " {'뉴스 URL': 'https://www.imaeil.com/page/view/2024052118061452630',\n",
      "  '뉴스 요약': '삼성 라이온즈가 21일 대구 삼성라이온즈파크에서 연장 접전 끝에 KT 위즈에 5대8로 패했다.',\n",
      "  '뉴스 제목': \"'원태인 아쉬운 투구' 삼성 라이온즈, 김영웅 3점포에도 KT에 패배\",\n",
      "  '뉴스 출처': '매일신문'},\n",
      " {'뉴스 URL': 'https://www.idaegu.com/news/articleView.html?idxno=603951',\n",
      "  '뉴스 요약': '올 시즌이 3분의 1도 채 지나지 않은 시점에 대구 삼성라이온즈파크(라팍)의 최단기간 매진 기록이 새롭게 써졌다.',\n",
      "  '뉴스 제목': \"상위권 달리는 삼성 라이온즈…흥행 성적도 '쑥쑥'\",\n",
      "  '뉴스 출처': '대구일보'},\n",
      " {'뉴스 URL': 'https://dgmbc.com/article/gVICr3vPShrHxw4a',\n",
      "  '뉴스 요약': '올 시즌 프로야구 삼성라이온즈가 경기마다 터지는 홈런포로 팬들을 열광시키고 있는데요.',\n",
      "  '뉴스 제목': '[만평] 승리를 가져오는 삼성라이온즈 이성규의 홈런포',\n",
      "  '뉴스 출처': '대구MBC'},\n",
      " {'뉴스 URL': 'https://www.tbc.co.kr/news/view?pno=20240521165321AE02808&id=187206',\n",
      "  '뉴스 요약': '단독 2위로 순항 중인 삼성라이온즈가 이번 주 8위 KT와 최하위 롯데를 만나 승수 쌓기를 시도합니다.',\n",
      "  '뉴스 제목': '이 시각 삼성라이온즈',\n",
      "  '뉴스 출처': 'TBC'},\n",
      " {'뉴스 URL': 'https://www.job-post.co.kr/news/articleView.html?idxno=105034',\n",
      "  '뉴스 요약': '5월 3주차 기준 삼성 라이온즈 선수 트렌드지수 순위를 랭키파이가 알아봤다.',\n",
      "  '뉴스 제목': \"삼성 라이온즈 선수 트렌드지수 '1위' 알려드립니다\",\n",
      "  '뉴스 출처': '잡포스트'},\n",
      " {'뉴스 URL': 'https://dgmbc.com/article/rrHaM-a8Cu',\n",
      "  '뉴스 요약': '위닝시리즈로 한화이글스와의 홈 3연전을 마친 삼성라이온즈가 이번 주 순위표상 아래쪽에 있는 KT와 롯데를 차례로 '\n",
      "           '상대합니다.',\n",
      "  '뉴스 제목': 'KT-롯데 만나는 삼성라이온즈···선두 추격 발판 마련하나',\n",
      "  '뉴스 출처': '대구MBC'},\n",
      " {'뉴스 URL': 'https://www.etoday.co.kr/news/view/2361215',\n",
      "  '뉴스 요약': '한화는 19일 대구 삼성라이온즈파크에서 열린 2024 신한 SOL뱅크 KBO리그 원정 경기에서 삼성 라이온즈를 '\n",
      "           '12-2로 완파하고 4연패 사슬을 끊었다. 이날 선발 등판한 류현진은 5이닝 3피안타 1볼넷 4탈삼진 무실점 호투로 '\n",
      "           '승리투수가 됐다. 지난달 30일 시즌 2승이자 KBO 통산 100승을 기록한 류현진은 19일...',\n",
      "  '뉴스 제목': '류현진 무실점·홈런 4방 폭발…한화, 삼성에 12-2 대승',\n",
      "  '뉴스 출처': '이투데이'},\n",
      " {'뉴스 URL': 'https://www.idaegu.com/news/articleView.html?idxno=603930',\n",
      "  '뉴스 요약': '5선발 이호성이 이른 시간 무너지는 탓에 삼성 라이온즈가 만원 관중 앞에서 시리즈 싹쓸이에 실패했다. 삼성 라이온즈는 '\n",
      "           '19일 대구 삼성라이온즈파크에서 열린 2024 신한 SOL 뱅크 KBO 리그 한화 이글스와의 홈경기를 2대 12로 '\n",
      "           '내줬다. 지난 17일과 18일 홈 만원 관중 앞에서 각각 7대 5와 9대 8로 승리를 거두며...',\n",
      "  '뉴스 제목': \"삼성 라이온즈, 류현진에 꽁꽁 묶이며 '만원' 관중 앞 대패…위닝시리즈에 만...\",\n",
      "  '뉴스 출처': '대구일보'}]\n"
     ]
    }
   ],
   "source": [
    "import pprint\n",
    "\n",
    "from langchain_text_splitters import RecursiveCharacterTextSplitter\n",
    "from langchain.docstore.document import Document\n",
    "from bs4 import BeautifulSoup\n",
    "\n",
    "def scrape_with_playwright(urls, schema):\n",
    "    loader = AsyncChromiumLoader(urls)\n",
    "    docs = loader.load()\n",
    "\n",
    "    soup = BeautifulSoup(docs[0].page_content, 'html.parser')\n",
    "    #docs[0].page_content = soup.select('#main_pack > section > div.api_subject_bx > div.group_news > ul')\n",
    "    article_tags = soup.select('a.news_tit, a.dsc_txt_wrap, a.press')\n",
    "\n",
    "    #print(newd)  \n",
    "    article_text = [a.text + ' ' + a['href'] for a in article_tags]\n",
    "    \n",
    "    #print(article_text[:10])\n",
    "    #[x.text for x in newd.find_all(\"li\")]\n",
    "\n",
    "    article_docs = []\n",
    "    article_docs.append(Document(page_content=\" \".join(article_text), metadata={\"source\": urls}))\n",
    "    print(len(article_docs[0].page_content))\n",
    "    \n",
    "    #print(type(fdocs), fdocs)\n",
    "    \"\"\"\n",
    "    bs_transformer = BeautifulSoupTransformer()\n",
    "    docs_transformed = bs_transformer.transform_documents(\n",
    "        docs, tags_to_extract=[\"a\", \"span\"]\n",
    "    )\n",
    "    \"\"\"\n",
    "\n",
    "    print(article_docs)\n",
    "    \n",
    "    #docs_transformed = [x.page_content for x in fdocs]\n",
    "    #print(type(docs_transformed))\n",
    "    print(\"Extracting content with LLM\")\n",
    "    \n",
    "    # Grab the first 1000 tokens of the site\n",
    "    splitter = RecursiveCharacterTextSplitter.from_tiktoken_encoder(\n",
    "        chunk_size=3500, chunk_overlap=0\n",
    "    )\n",
    "    splits = splitter.split_documents(article_docs)\n",
    "    print(len(splits))\n",
    "    \n",
    "    # Process the first split\n",
    "    extracted_content = []\n",
    "    for split in splits:\n",
    "        extracted_content.extend(extract(schema=schema, content=split.page_content))\n",
    "    \n",
    "    pprint.pprint(extracted_content)\n",
    "    \n",
    "    return extracted_content\n",
    "\n",
    "\n",
    "urls = [\"https://search.naver.com/search.naver?sm=tab_hty.top&where=news&ssc=tab.news.all&query=%EB%9D%BC%EC%9D%B4%EC%98%A8%EC%A6%88&oquery=%EC%82%BC%EC%84%B1&tqi=iCyRydpzL8VssNVAU%2FGssssstkd-519064\"]\n",
    "extracted_content = scrape_with_playwright(urls, schema=schema)"
   ]
  },
  {
   "cell_type": "markdown",
   "id": "ce32545e-9ee0-485a-b030-7298ce794fb1",
   "metadata": {},
   "source": [
    "#### LangSmith를 통한 모니티링\n",
    "- [#18.LangSmith를 이용한 Langchain agent 내부 동작 구조 이해 - 조대협](https://bcho.tistory.com/1427)\n",
    "\n",
    "\n",
    "<img src=\"./images/langsmith.png\" width=\"800\">"
   ]
  }
 ],
 "metadata": {
  "kernelspec": {
   "display_name": "Python 3.11.9 64-bit ('langchain')",
   "language": "python",
   "name": "python3"
  },
  "language_info": {
   "codemirror_mode": {
    "name": "ipython",
    "version": 3
   },
   "file_extension": ".py",
   "mimetype": "text/x-python",
   "name": "python",
   "nbconvert_exporter": "python",
   "pygments_lexer": "ipython3",
   "version": "3.11.9"
  },
  "vscode": {
   "interpreter": {
    "hash": "e1e6c2cf2a7c8a2839d7967c94a9ff9baecb1c3cf818a13ce36537b4beac65ca"
   }
  }
 },
 "nbformat": 4,
 "nbformat_minor": 5
}
